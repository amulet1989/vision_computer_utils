{
 "cells": [
  {
   "cell_type": "code",
   "execution_count": 4,
   "metadata": {},
   "outputs": [
    {
     "name": "stdout",
     "output_type": "stream",
     "text": [
      "cam52:  [[1010  556]]\n",
      "cam122:  [[714 549]]\n",
      "cam62:  [[611 558]]\n",
      "cam62_2:  [[605 620]]\n",
      "cam71:  [[616 548]]\n"
     ]
    }
   ],
   "source": [
    "from src.mapping import cam_point2planta\n",
    "\n",
    "plano_p1=cam_point2planta([[384,574]], 'camera52')\n",
    "plano_p2=cam_point2planta([[376,478]], 'camera122')\n",
    "plano_p3=cam_point2planta([[352,478]], 'camera62')\n",
    "plano_p4=cam_point2planta([[353, 262]], 'camera62')\n",
    "\n",
    "plano_p5=cam_point2planta([[72,198]], 'camera71')\n",
    "\n",
    "print('cam52: ', plano_p1)\n",
    "print('cam122: ', plano_p2)\n",
    "print('cam62: ', plano_p3)\n",
    "print('cam62_2: ', plano_p4)\n",
    "print('cam71: ', plano_p5)\n"
   ]
  }
 ],
 "metadata": {
  "kernelspec": {
   "display_name": ".venv",
   "language": "python",
   "name": "python3"
  },
  "language_info": {
   "codemirror_mode": {
    "name": "ipython",
    "version": 3
   },
   "file_extension": ".py",
   "mimetype": "text/x-python",
   "name": "python",
   "nbconvert_exporter": "python",
   "pygments_lexer": "ipython3",
   "version": "3.11.3"
  }
 },
 "nbformat": 4,
 "nbformat_minor": 2
}
