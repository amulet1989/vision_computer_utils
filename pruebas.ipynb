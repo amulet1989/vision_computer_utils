{
 "cells": [
  {
   "cell_type": "code",
   "execution_count": 3,
   "metadata": {},
   "outputs": [
    {
     "name": "stdout",
     "output_type": "stream",
     "text": [
      "cam122:  [[683 555]]\n",
      "cam122:  [[1134  523]]\n",
      "cam62:  [[743 565]]\n",
      "cam62_2:  [[462 568]]\n",
      "cam71:  [[616 548]]\n"
     ]
    }
   ],
   "source": [
    "from src.mapping import cam_point2planta\n",
    "\n",
    "plano_p1=cam_point2planta([[384,574]], 'camera52')\n",
    "\n",
    "plano_122_1=cam_point2planta([[383, 572],], 'camera122')\n",
    "plano_122_2=cam_point2planta([[387, 0]], 'camera122')\n",
    "\n",
    "plano_p3=cam_point2planta([[0, 444]], 'camera62')\n",
    "plano_p4=cam_point2planta([[700, 444]], 'camera62')\n",
    "\n",
    "plano_p5=cam_point2planta([[72,198]], 'camera71')\n",
    "\n",
    "print('cam122: ', plano_122_1)\n",
    "print('cam122: ', plano_122_2)\n",
    "print('cam62: ', plano_p3)\n",
    "print('cam62_2: ', plano_p4)\n",
    "print('cam71: ', plano_p5)\n"
   ]
  }
 ],
 "metadata": {
  "kernelspec": {
   "display_name": ".venv",
   "language": "python",
   "name": "python3"
  },
  "language_info": {
   "codemirror_mode": {
    "name": "ipython",
    "version": 3
   },
   "file_extension": ".py",
   "mimetype": "text/x-python",
   "name": "python",
   "nbconvert_exporter": "python",
   "pygments_lexer": "ipython3",
   "version": "3.11.3"
  }
 },
 "nbformat": 4,
 "nbformat_minor": 2
}
