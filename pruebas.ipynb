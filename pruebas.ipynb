{
 "cells": [
  {
   "cell_type": "code",
   "execution_count": 7,
   "metadata": {},
   "outputs": [
    {
     "name": "stdout",
     "output_type": "stream",
     "text": [
      "cam122_inicio:  [[377 491]]\n",
      "cam122_final:  [[504 490]]\n",
      "cam62_fila_larga:  [[334 505]]\n",
      "cam62_2_fila_corta:  [[324 505]]\n",
      "cam62_3_centro:  [[330 505]]\n",
      "cam71:  [[275 503]]\n"
     ]
    }
   ],
   "source": [
    "from src.mapping import cam_point2planta\n",
    "\n",
    "plano_p1=cam_point2planta([[367,507]], 'camera52')\n",
    "\n",
    "plano_122_1=cam_point2planta([[303, 395],], 'camera122')\n",
    "plano_122_2=cam_point2planta([[349, 78]], 'camera122')\n",
    "\n",
    "plano_p3=cam_point2planta([[305, 395]], 'camera62')\n",
    "plano_p4=cam_point2planta([[353, 395]], 'camera62')\n",
    "plano_p5=cam_point2planta([[325,395]], 'camera62')\n",
    "\n",
    "plano_p6=cam_point2planta([[117,171]], 'camera71')\n",
    "\n",
    "print('cam122_inicio: ', plano_122_1)\n",
    "print('cam122_final: ', plano_122_2)\n",
    "\n",
    "print('cam62_fila_larga: ', plano_p3)\n",
    "print('cam62_2_fila_corta: ', plano_p4)\n",
    "print('cam62_3_centro: ', plano_p5)\n",
    "\n",
    "print('cam71: ', plano_p6)\n"
   ]
  }
 ],
 "metadata": {
  "kernelspec": {
   "display_name": ".venv",
   "language": "python",
   "name": "python3"
  },
  "language_info": {
   "codemirror_mode": {
    "name": "ipython",
    "version": 3
   },
   "file_extension": ".py",
   "mimetype": "text/x-python",
   "name": "python",
   "nbconvert_exporter": "python",
   "pygments_lexer": "ipython3",
   "version": "3.11.3"
  }
 },
 "nbformat": 4,
 "nbformat_minor": 2
}
