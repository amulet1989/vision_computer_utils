{
 "cells": [
  {
   "cell_type": "code",
   "execution_count": 5,
   "metadata": {},
   "outputs": [
    {
     "name": "stdout",
     "output_type": "stream",
     "text": [
      "cam52:  [[1010  556]]\n",
      "cam122:  [[714 549]]\n",
      "cam62:  [[611 558]]\n",
      "cam712:  [[616 548]]\n"
     ]
    }
   ],
   "source": [
    "from src.mapping import cam_point2planta\n",
    "\n",
    "plano_p1=cam_point2planta([[384,574]], 'camera52')\n",
    "plano_p2=cam_point2planta([[376,478]], 'camera122')\n",
    "plano_p3=cam_point2planta([[352,478]], 'camera62')\n",
    "plano_p4=cam_point2planta([[72,198]], 'camera71')\n",
    "\n",
    "print('cam52: ', plano_p1)\n",
    "print('cam122: ', plano_p2)\n",
    "print('cam62: ', plano_p3)\n",
    "print('cam712: ', plano_p4)"
   ]
  }
 ],
 "metadata": {
  "kernelspec": {
   "display_name": ".venv",
   "language": "python",
   "name": "python3"
  },
  "language_info": {
   "codemirror_mode": {
    "name": "ipython",
    "version": 3
   },
   "file_extension": ".py",
   "mimetype": "text/x-python",
   "name": "python",
   "nbconvert_exporter": "python",
   "pygments_lexer": "ipython3",
   "version": "3.11.3"
  }
 },
 "nbformat": 4,
 "nbformat_minor": 2
}
